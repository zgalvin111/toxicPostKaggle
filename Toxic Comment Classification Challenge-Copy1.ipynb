{
 "cells": [
  {
   "cell_type": "code",
   "execution_count": 158,
   "metadata": {},
   "outputs": [],
   "source": [
    "# Import python libraries \n",
    "import pandas as pd\n",
    "import csv\n",
    "from sklearn.feature_extraction.text import TfidfTransformer\n",
    "from sklearn.feature_extraction.text import CountVectorizer\n",
    "from sklearn.naive_bayes import MultinomialNB\n",
    "import numpy as np\n",
    "from sklearn.model_selection import RandomizedSearchCV"
   ]
  },
  {
   "cell_type": "code",
   "execution_count": 159,
   "metadata": {},
   "outputs": [],
   "source": [
    "# Gather Testing text from csv\n",
    "path = '/Users/zgalvin/Desktop/Kaggle Problem/train.csv'\n",
    "pathTrain = '/Users/zgalvin/Desktop/Kaggle Problem/test.csv'\n",
    "\n",
    "trainData = pd.read_csv(path, names=['ID', 'Text', 'Toxic','Severe_Toxic','Obscene', 'Threat', 'Insult', 'Identity_Hate'], low_memory = False, header=0)\n",
    "testData = pd.read_csv(pathTrain, names=['ID','Text'],header=0,dtype={'ID': str})"
   ]
  },
  {
   "cell_type": "code",
   "execution_count": 160,
   "metadata": {},
   "outputs": [
    {
     "data": {
      "text/plain": [
       "0         0\n",
       "1         0\n",
       "2         0\n",
       "3         0\n",
       "4         0\n",
       "5         0\n",
       "6         1\n",
       "7         0\n",
       "8         0\n",
       "9         0\n",
       "10        0\n",
       "11        0\n",
       "12        1\n",
       "13        0\n",
       "14        0\n",
       "15        0\n",
       "16        1\n",
       "17        0\n",
       "18        0\n",
       "19        0\n",
       "20        0\n",
       "21        0\n",
       "22        0\n",
       "23        0\n",
       "24        0\n",
       "25        0\n",
       "26        0\n",
       "27        0\n",
       "28        0\n",
       "29        0\n",
       "         ..\n",
       "159541    1\n",
       "159542    0\n",
       "159543    0\n",
       "159544    0\n",
       "159545    0\n",
       "159546    1\n",
       "159547    0\n",
       "159548    0\n",
       "159549    0\n",
       "159550    0\n",
       "159551    0\n",
       "159552    0\n",
       "159553    0\n",
       "159554    1\n",
       "159555    0\n",
       "159556    0\n",
       "159557    0\n",
       "159558    0\n",
       "159559    0\n",
       "159560    0\n",
       "159561    0\n",
       "159562    0\n",
       "159563    0\n",
       "159564    0\n",
       "159565    0\n",
       "159566    0\n",
       "159567    0\n",
       "159568    0\n",
       "159569    0\n",
       "159570    0\n",
       "Name: Toxic, Length: 159571, dtype: int64"
      ]
     },
     "execution_count": 160,
     "metadata": {},
     "output_type": "execute_result"
    }
   ],
   "source": [
    "X_train = trainData.Text\n",
    "y_train = [trainData.Toxic, trainData.Severe_Toxic, trainData.Obscene, trainData.Threat, trainData.Insult, trainData.Identity_Hate]\n",
    "\n",
    "X_test = testData.Text\n",
    "y_train[0]"
   ]
  },
  {
   "cell_type": "code",
   "execution_count": 161,
   "metadata": {},
   "outputs": [
    {
     "name": "stdout",
     "output_type": "stream",
     "text": [
      "  (0, 62514)\t0.1541473379780065\n",
      "  (0, 181219)\t0.0927448677579765\n",
      "  (0, 165439)\t0.113124802638619\n",
      "  (0, 57020)\t0.10947438014300699\n",
      "  (0, 102805)\t0.10704008674516982\n",
      "  (0, 172691)\t0.11847331244740758\n",
      "  (0, 113373)\t0.07368667977528169\n",
      "  (0, 175025)\t0.15777724032602497\n",
      "  (0, 76897)\t0.22644672248014552\n",
      "  (0, 107934)\t0.2599200666192883\n",
      "  (0, 63803)\t0.17148836755669752\n",
      "  (0, 180427)\t0.09920335572818646\n",
      "  (0, 141678)\t0.132563402192529\n",
      "  (0, 166138)\t0.08543520652279057\n",
      "  (0, 180436)\t0.18683673288762712\n",
      "  (0, 175897)\t0.25717802282242175\n",
      "  (0, 91648)\t0.080292715430306\n",
      "  (0, 39059)\t0.23163767280164213\n",
      "  (0, 120889)\t0.05852601496381849\n",
      "  (0, 154899)\t0.08690009587113302\n",
      "  (0, 70307)\t0.20538286363540104\n",
      "  (0, 12840)\t0.11091430260421\n",
      "  (0, 178394)\t0.1987681733894593\n",
      "  (0, 20700)\t0.0740975905480485\n",
      "  (0, 116025)\t0.10757694076154482\n",
      "  :\t:\n",
      "  (159570, 16155)\t0.12836422973089262\n",
      "  (159570, 53979)\t0.12043236646882022\n",
      "  (159570, 137827)\t0.15300316036931208\n",
      "  (159570, 86288)\t0.18563568863580637\n",
      "  (159570, 120045)\t0.13230354000711056\n",
      "  (159570, 166250)\t0.12578156943350063\n",
      "  (159570, 185845)\t0.13309003961221694\n",
      "  (159570, 77501)\t0.0879614059922588\n",
      "  (159570, 180706)\t0.10784944496904185\n",
      "  (159570, 179470)\t0.100950793767106\n",
      "  (159570, 72696)\t0.15227080994117437\n",
      "  (159570, 165722)\t0.1385591952749465\n",
      "  (159570, 33228)\t0.2067937901701021\n",
      "  (159570, 78656)\t0.12345545449481551\n",
      "  (159570, 22801)\t0.3840574285724676\n",
      "  (159570, 172820)\t0.1757995409881924\n",
      "  (159570, 72887)\t0.21978790340553483\n",
      "  (159570, 142378)\t0.15664510320031913\n",
      "  (159570, 40739)\t0.20594555720793428\n",
      "  (159570, 22033)\t0.4020921571918517\n",
      "  (159570, 94277)\t0.19403034855882142\n",
      "  (159570, 82756)\t0.19215078389806536\n",
      "  (159570, 82782)\t0.2406117293511941\n",
      "  (159570, 141839)\t0.263564305651599\n",
      "  (159570, 78394)\t0.24903320112601765\n"
     ]
    }
   ],
   "source": [
    "# Turn text to numbers\n",
    "# Transform X into word counts\n",
    "count_vect = CountVectorizer()\n",
    "X_train_counts = count_vect.fit_transform(X_train)\n",
    "\n",
    "tf_transformer = TfidfTransformer()\n",
    "X_train = tf_transformer.fit_transform(X_train_counts)\n",
    "print(X_train)"
   ]
  },
  {
   "cell_type": "code",
   "execution_count": 162,
   "metadata": {},
   "outputs": [
    {
     "name": "stdout",
     "output_type": "stream",
     "text": [
      "  (0, 185845)\t0.16338228601054158\n",
      "  (0, 185655)\t0.1357108946106199\n",
      "  (0, 184027)\t0.085376499426223\n",
      "  (0, 182815)\t0.04561694082334245\n",
      "  (0, 181019)\t0.2204463802982753\n",
      "  (0, 180759)\t0.1392455983338447\n",
      "  (0, 179470)\t0.04957116703340282\n",
      "  (0, 174660)\t0.1327907517169193\n",
      "  (0, 174444)\t0.06416032230854059\n",
      "  (0, 170808)\t0.19357012435881588\n",
      "  (0, 168222)\t0.07757743852610323\n",
      "  (0, 167761)\t0.02851293401117934\n",
      "  (0, 167191)\t0.06620041695330817\n",
      "  (0, 166244)\t0.08364244398276577\n",
      "  (0, 165773)\t0.06637017885374236\n",
      "  (0, 165385)\t0.03510775414300272\n",
      "  (0, 159849)\t0.1842776425200409\n",
      "  (0, 153299)\t0.1624039180773865\n",
      "  (0, 151751)\t0.20943014644166855\n",
      "  (0, 151345)\t0.05921997025843634\n",
      "  (0, 150967)\t0.10596550670358564\n",
      "  (0, 145160)\t0.12279719241821091\n",
      "  (0, 144373)\t0.21134028383495418\n",
      "  (0, 142378)\t0.07691946032263723\n",
      "  (0, 132309)\t0.14844393904410405\n",
      "  :\t:\n",
      "  (153162, 14783)\t0.09947093178827782\n",
      "  (153162, 14571)\t0.04924105340622741\n",
      "  (153162, 12562)\t0.14750398394272785\n",
      "  (153162, 11512)\t0.07274102347130847\n",
      "  (153163, 185918)\t0.11402679495925172\n",
      "  (153163, 185845)\t0.1570391080508258\n",
      "  (153163, 180319)\t0.166806384615984\n",
      "  (153163, 180294)\t0.20793788372462385\n",
      "  (153163, 166250)\t0.14841550525210578\n",
      "  (153163, 165385)\t0.08436181380044327\n",
      "  (153163, 158486)\t0.19130143828974358\n",
      "  (153163, 128852)\t0.3645578105542454\n",
      "  (153163, 120045)\t0.07805554035155682\n",
      "  (153163, 118118)\t0.09552539054400888\n",
      "  (153163, 117297)\t0.13471227484373202\n",
      "  (153163, 94277)\t0.2289454038878439\n",
      "  (153163, 87952)\t0.16067167840132635\n",
      "  (153163, 83030)\t0.10917682948939772\n",
      "  (153163, 78656)\t0.14567081439275106\n",
      "  (153163, 67049)\t0.32273007367699696\n",
      "  (153163, 62548)\t0.5032479988992112\n",
      "  (153163, 59487)\t0.21485033197800296\n",
      "  (153163, 31766)\t0.312477036744541\n",
      "  (153163, 16155)\t0.07573145293706961\n",
      "  (153163, 15018)\t0.2023466758974113\n"
     ]
    }
   ],
   "source": [
    "# Transform X_test\n",
    "X_test = count_vect.transform(X_test)\n",
    "X_test = tf_transformer.transform(X_test)\n",
    "print(X_test)"
   ]
  },
  {
   "cell_type": "code",
   "execution_count": 163,
   "metadata": {},
   "outputs": [],
   "source": [
    "# Test model on each category\n",
    "\n",
    "# Identity_Hate\n",
    "mlb = MultinomialNB().fit(X_train, y_train[5])\n",
    "predicted_Identity_Hate = pd.Series(mlb.predict(X_test))\n",
    "\n",
    "# Insult\n",
    "mlb = MultinomialNB().fit(X_train, y_train[4])\n",
    "predicted_Insult = pd.Series(mlb.predict(X_test))\n",
    "\n",
    "# Threat\n",
    "mlb = MultinomialNB().fit(X_train, y_train[3])\n",
    "predicted_Threat = pd.Series(mlb.predict(X_test))\n",
    "\n",
    "# Obscene\n",
    "mlb = MultinomialNB().fit(X_train, y_train[2])\n",
    "predicted_Obscene = pd.Series(mlb.predict(X_test))\n",
    "\n",
    "# Severly Toxic\n",
    "mlb = MultinomialNB().fit(X_train, y_train[1])\n",
    "predicted_Severly_Toxic = pd.Series(mlb.predict(X_test))\n",
    "\n",
    "# Toxic\n",
    "mlb = MultinomialNB().fit(X_train, y_train[0])\n",
    "predicted_Toxic = pd.Series(mlb.predict(X_test))\n"
   ]
  },
  {
   "cell_type": "code",
   "execution_count": 164,
   "metadata": {},
   "outputs": [
    {
     "name": "stdout",
     "output_type": "stream",
     "text": [
      "[]\n"
     ]
    }
   ],
   "source": [
    "# Testing purposes\n",
    "# Toxic\n",
    "#mlb = MultinomialNB().fit(X_train, y_train[0])\n",
    "#predicted = mlb.predict(X_test)\n",
    "#type(pd.Series(predicted))\n",
    "print(y_test)"
   ]
  },
  {
   "cell_type": "code",
   "execution_count": 165,
   "metadata": {},
   "outputs": [],
   "source": [
    "columnNames = 'id','toxic','severe_toxic','obscene', 'threat', 'insult', 'identity_hate'\n",
    "data = pd.concat([testData.ID,predicted_Toxic,predicted_Severly_Toxic,predicted_Obscene,predicted_Threat,predicted_Insult,predicted_Identity_Hate], axis=1)\n",
    "data.head()\n",
    "data.to_csv(path_or_buf='/Users/zgalvin/Desktop/results.csv', index=False, header=columnNames)\n",
    "\n"
   ]
  },
  {
   "cell_type": "code",
   "execution_count": 166,
   "metadata": {},
   "outputs": [
    {
     "data": {
      "text/plain": [
       "('id', 'toxic', 'severe_toxic', 'obscene', 'threat', 'insult', 'identity_hate')"
      ]
     },
     "execution_count": 166,
     "metadata": {},
     "output_type": "execute_result"
    }
   ],
   "source": [
    "columnNames"
   ]
  },
  {
   "cell_type": "code",
   "execution_count": null,
   "metadata": {},
   "outputs": [],
   "source": []
  },
  {
   "cell_type": "code",
   "execution_count": null,
   "metadata": {},
   "outputs": [],
   "source": []
  },
  {
   "cell_type": "code",
   "execution_count": null,
   "metadata": {},
   "outputs": [],
   "source": []
  },
  {
   "cell_type": "code",
   "execution_count": null,
   "metadata": {},
   "outputs": [],
   "source": []
  }
 ],
 "metadata": {
  "kernelspec": {
   "display_name": "Python 3",
   "language": "python",
   "name": "python3"
  },
  "language_info": {
   "codemirror_mode": {
    "name": "ipython",
    "version": 3
   },
   "file_extension": ".py",
   "mimetype": "text/x-python",
   "name": "python",
   "nbconvert_exporter": "python",
   "pygments_lexer": "ipython3",
   "version": "3.6.4"
  }
 },
 "nbformat": 4,
 "nbformat_minor": 2
}
