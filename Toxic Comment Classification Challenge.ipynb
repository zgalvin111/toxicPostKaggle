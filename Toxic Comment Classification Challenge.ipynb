{
 "cells": [
  {
   "cell_type": "code",
   "execution_count": 222,
   "metadata": {},
   "outputs": [],
   "source": [
    "# Import python libraries \n",
    "import pandas as pd\n",
    "import csv\n",
    "from sklearn.feature_extraction.text import TfidfTransformer\n",
    "from sklearn.feature_extraction.text import CountVectorizer\n",
    "from sklearn.naive_bayes import MultinomialNB\n",
    "import numpy as np\n",
    "from sklearn.model_selection import RandomizedSearchCV\n",
    "from sklearn.linear_model import SGDClassifier\n",
    "from sklearn.model_selection import GridSearchCV\n",
    "import nltk\n",
    "import time\n",
    "from sklearn.ensemble import RandomForestClassifier\n",
    "from sklearn.tree import DecisionTreeClassifier\n",
    "from nltk.stem.snowball import SnowballStemmer\n",
    "from scipy.sparse import hstack\n",
    "from sklearn.svm import SVC"
   ]
  },
  {
   "cell_type": "code",
   "execution_count": 223,
   "metadata": {},
   "outputs": [
    {
     "data": {
      "text/plain": [
       "pandas.core.frame.DataFrame"
      ]
     },
     "execution_count": 223,
     "metadata": {},
     "output_type": "execute_result"
    }
   ],
   "source": [
    "# Import test and train data\n",
    "path = '/Users/zgalvin/Desktop/Kaggle Problem/train.csv'\n",
    "pathTrain = '/Users/zgalvin/Desktop/Kaggle Problem/test.csv'\n",
    "\n",
    "trainData = pd.read_csv(path, names=['ID', 'Text', 'Toxic','Severe_Toxic','Obscene', 'Threat', 'Insult', 'Identity_Hate'], low_memory = False, header=0)\n",
    "testData = pd.read_csv(pathTrain, names=['ID','Text'],header=0,dtype={'ID': str})\n",
    "\n",
    "trainData.head()\n",
    "type(trainData)"
   ]
  },
  {
   "cell_type": "code",
   "execution_count": 224,
   "metadata": {},
   "outputs": [
    {
     "name": "stdout",
     "output_type": "stream",
     "text": [
      "0.007706165313720703\n"
     ]
    }
   ],
   "source": [
    "# Split the data up into X and y\n",
    "\n",
    "# Start timer\n",
    "start_time = time.time()\n",
    "\n",
    "# Assign text to X and categories to y\n",
    "X_train = trainData.Text\n",
    "y_train = [trainData.Toxic, trainData.Severe_Toxic, trainData.Obscene, trainData.Threat, trainData.Insult, trainData.Identity_Hate]\n",
    "\n",
    "# Assign text to X in the test set\n",
    "X_test = testData.Text\n",
    "\n",
    "elapsed_time = time.time() - start_time\n",
    "print(elapsed_time)"
   ]
  },
  {
   "cell_type": "code",
   "execution_count": 225,
   "metadata": {},
   "outputs": [
    {
     "name": "stdout",
     "output_type": "stream",
     "text": [
      "9.60128402709961\n"
     ]
    }
   ],
   "source": [
    "# Turn text to numbers\n",
    "\n",
    "# Start timer\n",
    "start_time = time.time()       \n",
    "\n",
    "# Fit and transform X into tokenized word counts\n",
    "count_vect = CountVectorizer(stop_words='english', min_df=.0002, max_df=.9)\n",
    "X_train = count_vect.fit_transform(X_train)\n",
    "# print(count_vect.get_feature_names())\n",
    "\n",
    "\n",
    "# Implement term frequency–inverse document frequency on the word counts (this did not help accuracy)\n",
    "# tf_transformer = TfidfTransformer()\n",
    "# X_train = tf_transformer.fit_transform(X_train_counts)\n",
    "\n",
    "elapsed_time = time.time() - start_time\n",
    "print(elapsed_time)"
   ]
  },
  {
   "cell_type": "code",
   "execution_count": 226,
   "metadata": {},
   "outputs": [
    {
     "name": "stdout",
     "output_type": "stream",
     "text": [
      "7.119053840637207\n"
     ]
    }
   ],
   "source": [
    "# Transform X_test\n",
    "\n",
    "# Start timer\n",
    "start_time = time.time()\n",
    "\n",
    "# Transform X into word counts\n",
    "X_test = count_vect.transform(X_test)    \n",
    "\n",
    "# Transform X in testing data througb frequency–inverse document frequency on the word counts (this did not help accuracy)\n",
    "# X_test = tf_transformer.transform(X_test)\n",
    "\n",
    "elapsed_time = time.time() - start_time\n",
    "print(elapsed_time)"
   ]
  },
  {
   "cell_type": "code",
   "execution_count": 227,
   "metadata": {},
   "outputs": [],
   "source": [
    "# Function to choose model so that editing models is easier (less copy and pasting)\n",
    "\n",
    "# Start timer\n",
    "start_time = time.time()\n",
    "\n",
    "# Parameters: \n",
    "#     model - (str) The model you would like to train the categories on. \n",
    "#     y - (int) The category you would like to test (0-5)\n",
    "# Returns:\n",
    "#     mod - (Object) This function returns the instatiated model that was specified in the parameter 'model'\n",
    "def chooseModel(model,y):\n",
    "    if model == \"nb\":\n",
    "        # use MultinomialNB\n",
    "        mod = MultinomialNB()\n",
    "        \n",
    "        '''# Find optimal parameters\n",
    "        params = dict(alpha=range(0,20))\n",
    "        \n",
    "        # Instiatiate and fit GridSearch\n",
    "        grid = GridSearchCV(mb, params, random_state=4)\n",
    "        grid.fit(X_train, y_train[y])\n",
    "        \n",
    "        # Print out result\n",
    "        print(grid.best_params_)\n",
    "        \n",
    "        mod = MultinomialNB(alpha=grid.best_params_)\n",
    "        print(elapsed_time)\n",
    "        '''\n",
    "        return mod\n",
    "    elif model == \"sgd\":\n",
    "        # use SGDClassifier \n",
    "        mod = SGDClassifier(loss='log')\n",
    "        print(elapsed_time)\n",
    "        \n",
    "        '''# Define parameters to optimize\n",
    "        params = dict(loss=[penalty=['none','l2','l1','elasticnet'], \\\n",
    "                            alpha=(1e-2, 1e-3), fit_intercept=[True,False]  \n",
    "                     )\n",
    "        \n",
    "        grid = GridSearchCV(sgd, params, n_iter=5, random_state=5)\n",
    "        rand.fit(X_train, y_train[y])\n",
    "        \n",
    "        # Print out the optimal parameters \n",
    "        print(rand.best_params_)\n",
    "        \n",
    "        # Instatiate new model with optimized parameters\n",
    "        mod = SGDClassifier(loss=rand.best_params_['loss'], penalty=rand.best_params_['penalty'])\n",
    "        '''\n",
    "        return mod\n",
    "    elif model == \"randTree\":\n",
    "        # Use RandomForestClassifier\n",
    "        mod = RandomForestClassifier(n_estimators=10)\n",
    "        print(elapsed_time)\n",
    "        return mod\n",
    "    elif model == \"decTree\":\n",
    "        # Use DecisionTreeClassifier\n",
    "        mod = DecisionTreeClassifier()\n",
    "        print(elapsed_time)\n",
    "        return mod\n",
    "    elif model == \"svm\":\n",
    "        mod = SVC()\n",
    "        print(elapsed_time)\n",
    "        return mod\n",
    "    else:\n",
    "        print(\"Sorry! We have not implemented that model yet.\")\n"
   ]
  },
  {
   "cell_type": "code",
   "execution_count": 228,
   "metadata": {
    "scrolled": true
   },
   "outputs": [
    {
     "name": "stdout",
     "output_type": "stream",
     "text": [
      "0.00024175643920898438\n"
     ]
    }
   ],
   "source": [
    "# Function that allow you to test each category (Again, less copy and pasting)\n",
    "\n",
    "# Start timer\n",
    "start_time = time.time()\n",
    "\n",
    "# Parameters: \n",
    "#     modelToUse - (str) The model you would like to train the categories on. The possible models are implemented in the \n",
    "#                  chooseModel() function above.\n",
    "# Returns:\n",
    "#     data - (pandas.core.frame.DataFrame) This function returns a data frame of the ID and probabilties of toxic, severly\n",
    "# .          obscene, threat, insult and identity hate for each comment or text.\n",
    "def checkAllCategories(modelToUse):\n",
    "    # Identity_Hate\n",
    "    mlb = chooseModel(model=modelToUse,y=5).fit(X_train, y_train[5])\n",
    "    predicted_Identity_Hate = mlb.predict_proba(X_test)\n",
    "    predicted_Identity_Hate = pd.Series(predicted_Identity_Hate[:,1])\n",
    "\n",
    "    # Insult\n",
    "    mlb = chooseModel(model=modelToUse,y=4).fit(X_train, y_train[4])\n",
    "    predicted_Insult = mlb.predict_proba(X_test)\n",
    "    predicted_Insult = pd.Series(predicted_Insult[:,1])\n",
    "\n",
    "    # Threat\n",
    "    mlb = chooseModel(model=modelToUse,y=3).fit(X_train, y_train[3])\n",
    "    predicted_Threat = mlb.predict_proba(X_test)\n",
    "    predicted_Threat = pd.Series(predicted_Threat[:,1])\n",
    "\n",
    "    # Obscene\n",
    "    mlb = chooseModel(model=modelToUse,y=2).fit(X_train, y_train[2])\n",
    "    predicted_Obscene = mlb.predict_proba(X_test)\n",
    "    predicted_Obscene = pd.Series(predicted_Obscene[:,1])\n",
    "\n",
    "    # Severly Toxic\n",
    "    mlb = chooseModel(model=modelToUse,y=1).fit(X_train, y_train[1])\n",
    "    predicted_Severly_Toxic = mlb.predict_proba(X_test)\n",
    "    predicted_Severly_Toxic = pd.Series(predicted_Severly_Toxic[:,1])\n",
    "\n",
    "    # Toxic\n",
    "    mlb = chooseModel(model=modelToUse,y=0).fit(X_train, y_train[0])\n",
    "    predicted_Toxic = mlb.predict_proba(X_test)\n",
    "    predicted_Toxic = pd.Series(predicted_Toxic[:,1])\n",
    "    '''\n",
    "    cols = ['predicted_Toxic','predicted_Severely_Toxic','predicted_Obscene','predicted_Threat','predicted_insult','predicted_Identity_Hate']\n",
    "    for i in range(len(y_train)):\n",
    "        mlb = MultinomialNB().fit(X_train, y_train[i])\n",
    "        # Transform X and then predict\n",
    "        if i == 0:\n",
    "            X_test = count_vect.transform(X_test)\n",
    "            X_test = tf_transformer.transform(X_test)\n",
    "        cols[i] = pd.Series(mlb.predict(X_test))\n",
    "    '''\n",
    "    \n",
    "    data = pd.concat([testData.ID,predicted_Toxic,predicted_Severly_Toxic,predicted_Obscene,predicted_Threat,predicted_Insult,predicted_Identity_Hate], axis=1)\n",
    "    return data\n",
    "    \n",
    "elapsed_time = time.time() - start_time\n",
    "print(elapsed_time)"
   ]
  },
  {
   "cell_type": "code",
   "execution_count": 229,
   "metadata": {},
   "outputs": [
    {
     "name": "stdout",
     "output_type": "stream",
     "text": [
      "2.4055190086364746\n"
     ]
    }
   ],
   "source": [
    "# Write data to csv file in Kaggle format\n",
    "\n",
    "# Start timer\n",
    "start_time = time.time()\n",
    "\n",
    "# Create list of column names (How Kaggle wants it)\n",
    "columnNames = 'id','toxic','severe_toxic','obscene', 'threat', 'insult', 'identity_hate'\n",
    "\n",
    "# Concat the pandas series together to create a data frame\n",
    "data = checkAllCategories(modelToUse=\"nb\")\n",
    "\n",
    "# Write data frame to the result.csv on desktop\n",
    "data.to_csv(path_or_buf='/Users/zgalvin/Desktop/results.csv', index=False, header=columnNames)\n",
    "\n",
    "elapsed_time = time.time() - start_time\n",
    "print(elapsed_time)\n"
   ]
  },
  {
   "cell_type": "code",
   "execution_count": null,
   "metadata": {},
   "outputs": [],
   "source": []
  }
 ],
 "metadata": {
  "kernelspec": {
   "display_name": "Python 3",
   "language": "python",
   "name": "python3"
  },
  "language_info": {
   "codemirror_mode": {
    "name": "ipython",
    "version": 3
   },
   "file_extension": ".py",
   "mimetype": "text/x-python",
   "name": "python",
   "nbconvert_exporter": "python",
   "pygments_lexer": "ipython3",
   "version": "3.6.4"
  }
 },
 "nbformat": 4,
 "nbformat_minor": 2
}
