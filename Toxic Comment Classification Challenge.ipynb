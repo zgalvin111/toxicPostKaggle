{
 "cells": [
  {
   "cell_type": "code",
   "execution_count": 47,
   "metadata": {},
   "outputs": [],
   "source": [
    "# Import python libraries \n",
    "import pandas as pd\n",
    "import csv\n",
    "from sklearn.feature_extraction.text import TfidfTransformer\n",
    "from sklearn.feature_extraction.text import CountVectorizer\n",
    "from sklearn.naive_bayes import MultinomialNB\n",
    "import numpy as np\n",
    "from sklearn.model_selection import RandomizedSearchCV\n",
    "from sklearn.linear_model import SGDClassifier\n",
    "from sklearn.model_selection import GridSearchCV\n",
    "import nltk\n",
    "import time\n",
    "from sklearn.ensemble import RandomForestClassifier\n",
    "from sklearn.tree import DecisionTreeClassifier\n",
    "from nltk.stem.snowball import SnowballStemmer"
   ]
  },
  {
   "cell_type": "code",
   "execution_count": 48,
   "metadata": {},
   "outputs": [
    {
     "data": {
      "text/html": [
       "<div>\n",
       "<style scoped>\n",
       "    .dataframe tbody tr th:only-of-type {\n",
       "        vertical-align: middle;\n",
       "    }\n",
       "\n",
       "    .dataframe tbody tr th {\n",
       "        vertical-align: top;\n",
       "    }\n",
       "\n",
       "    .dataframe thead th {\n",
       "        text-align: right;\n",
       "    }\n",
       "</style>\n",
       "<table border=\"1\" class=\"dataframe\">\n",
       "  <thead>\n",
       "    <tr style=\"text-align: right;\">\n",
       "      <th></th>\n",
       "      <th>ID</th>\n",
       "      <th>Text</th>\n",
       "      <th>Toxic</th>\n",
       "      <th>Severe_Toxic</th>\n",
       "      <th>Obscene</th>\n",
       "      <th>Threat</th>\n",
       "      <th>Insult</th>\n",
       "      <th>Identity_Hate</th>\n",
       "    </tr>\n",
       "  </thead>\n",
       "  <tbody>\n",
       "    <tr>\n",
       "      <th>0</th>\n",
       "      <td>0000997932d777bf</td>\n",
       "      <td>Explanation\\nWhy the edits made under my usern...</td>\n",
       "      <td>0</td>\n",
       "      <td>0</td>\n",
       "      <td>0</td>\n",
       "      <td>0</td>\n",
       "      <td>0</td>\n",
       "      <td>0</td>\n",
       "    </tr>\n",
       "    <tr>\n",
       "      <th>1</th>\n",
       "      <td>000103f0d9cfb60f</td>\n",
       "      <td>D'aww! He matches this background colour I'm s...</td>\n",
       "      <td>0</td>\n",
       "      <td>0</td>\n",
       "      <td>0</td>\n",
       "      <td>0</td>\n",
       "      <td>0</td>\n",
       "      <td>0</td>\n",
       "    </tr>\n",
       "    <tr>\n",
       "      <th>2</th>\n",
       "      <td>000113f07ec002fd</td>\n",
       "      <td>Hey man, I'm really not trying to edit war. It...</td>\n",
       "      <td>0</td>\n",
       "      <td>0</td>\n",
       "      <td>0</td>\n",
       "      <td>0</td>\n",
       "      <td>0</td>\n",
       "      <td>0</td>\n",
       "    </tr>\n",
       "    <tr>\n",
       "      <th>3</th>\n",
       "      <td>0001b41b1c6bb37e</td>\n",
       "      <td>\"\\nMore\\nI can't make any real suggestions on ...</td>\n",
       "      <td>0</td>\n",
       "      <td>0</td>\n",
       "      <td>0</td>\n",
       "      <td>0</td>\n",
       "      <td>0</td>\n",
       "      <td>0</td>\n",
       "    </tr>\n",
       "    <tr>\n",
       "      <th>4</th>\n",
       "      <td>0001d958c54c6e35</td>\n",
       "      <td>You, sir, are my hero. Any chance you remember...</td>\n",
       "      <td>0</td>\n",
       "      <td>0</td>\n",
       "      <td>0</td>\n",
       "      <td>0</td>\n",
       "      <td>0</td>\n",
       "      <td>0</td>\n",
       "    </tr>\n",
       "  </tbody>\n",
       "</table>\n",
       "</div>"
      ],
      "text/plain": [
       "                 ID                                               Text  Toxic  \\\n",
       "0  0000997932d777bf  Explanation\\nWhy the edits made under my usern...      0   \n",
       "1  000103f0d9cfb60f  D'aww! He matches this background colour I'm s...      0   \n",
       "2  000113f07ec002fd  Hey man, I'm really not trying to edit war. It...      0   \n",
       "3  0001b41b1c6bb37e  \"\\nMore\\nI can't make any real suggestions on ...      0   \n",
       "4  0001d958c54c6e35  You, sir, are my hero. Any chance you remember...      0   \n",
       "\n",
       "   Severe_Toxic  Obscene  Threat  Insult  Identity_Hate  \n",
       "0             0        0       0       0              0  \n",
       "1             0        0       0       0              0  \n",
       "2             0        0       0       0              0  \n",
       "3             0        0       0       0              0  \n",
       "4             0        0       0       0              0  "
      ]
     },
     "execution_count": 48,
     "metadata": {},
     "output_type": "execute_result"
    }
   ],
   "source": [
    "# Gather Testing text from csv\n",
    "path = '/Users/zgalvin/Desktop/Kaggle Problem/train.csv'\n",
    "pathTrain = '/Users/zgalvin/Desktop/Kaggle Problem/test.csv'\n",
    "\n",
    "trainData = pd.read_csv(path, names=['ID', 'Text', 'Toxic','Severe_Toxic','Obscene', 'Threat', 'Insult', 'Identity_Hate'], low_memory = False, header=0)\n",
    "testData = pd.read_csv(pathTrain, names=['ID','Text'],header=0,dtype={'ID': str})\n",
    "\n",
    "trainData.head()"
   ]
  },
  {
   "cell_type": "code",
   "execution_count": 49,
   "metadata": {},
   "outputs": [
    {
     "name": "stdout",
     "output_type": "stream",
     "text": [
      "0.022300004959106445\n"
     ]
    }
   ],
   "source": [
    "start_time = time.time()\n",
    "X_train = trainData.Text\n",
    "y_train = [trainData.Toxic, trainData.Severe_Toxic, trainData.Obscene, trainData.Threat, trainData.Insult, trainData.Identity_Hate]\n",
    "\n",
    "X_test = testData.Text\n",
    "y_train[0]\n",
    "elapsed_time = time.time() - start_time\n",
    "print(elapsed_time)"
   ]
  },
  {
   "cell_type": "code",
   "execution_count": 50,
   "metadata": {},
   "outputs": [
    {
     "name": "stdout",
     "output_type": "stream",
     "text": [
      "<class 'sklearn.feature_extraction.text.CountVectorizer'>\n",
      "8.733518123626709\n"
     ]
    }
   ],
   "source": [
    "# Turn text to numbers\n",
    "start_time = time.time()\n",
    "'''\n",
    "# Create Lemmatizer\n",
    "class LemmaTokenizer(object):\n",
    "    def __init__(self):\n",
    "        self.wnl = WordNetLemmatizer()\n",
    "    def __call__(self, doc):\n",
    "        return [self.wnl.lemmatize(t) for t in word_tokenize(doc)]\n",
    "'''        \n",
    "\n",
    "# Transform X into word counts\n",
    "count_vect = CountVectorizer(stop_words='english', min_df=.0002, max_df=.9)\n",
    "X_train = count_vect.fit_transform(X_train)\n",
    "print(type(count_vect))\n",
    "# print(count_vect.get_feature_names())\n",
    "\n",
    "# tf_transformer = TfidfTransformer()\n",
    "# X_train = tf_transformer.fit_transform(X_train_counts)\n",
    "elapsed_time = time.time() - start_time\n",
    "print(elapsed_time)"
   ]
  },
  {
   "cell_type": "code",
   "execution_count": 51,
   "metadata": {},
   "outputs": [
    {
     "name": "stdout",
     "output_type": "stream",
     "text": [
      "7.0685670375823975\n"
     ]
    }
   ],
   "source": [
    "# Transform X_test\n",
    "start_time = time.time()\n",
    "X_test = count_vect.transform(X_test)\n",
    "# X_test = tf_transformer.transform(X_test)\n",
    "# print(X_test)\n",
    "elapsed_time = time.time() - start_time\n",
    "print(elapsed_time)"
   ]
  },
  {
   "cell_type": "code",
   "execution_count": 52,
   "metadata": {},
   "outputs": [],
   "source": [
    "# Function to choose model\n",
    "start_time = time.time()\n",
    "def chooseModel(model,y):\n",
    "    if model == \"nb\":\n",
    "        # use MultinomialNB\n",
    "        mlb = MultinomialNB()\n",
    "        print(elapsed_time)\n",
    "        return mlb\n",
    "    elif model == \"sgd\":\n",
    "        # Find optimal parameters for SGDClassifier \n",
    "        sgd = SGDClassifier()\n",
    "        print(elapsed_time)\n",
    "        \n",
    "        '''# Define parameters to optimize\n",
    "        params = dict(loss=['log','modified_huber', 'squared_hinge', \\\n",
    "                            'perceptron', 'squared_loss', 'huber', \\\n",
    "                            'epsilon_insensitive', 'squared_epsilon_insensitive'],\\\n",
    "                            penalty=['none','l2','l1','elasticnet'], \\\n",
    "                            alpha=(1e-2, 1e-3), fit_intercept=[True,False]  \n",
    "                     )\n",
    "        \n",
    "        rand = RandomizedSearchCV(sgd, params, n_iter=5, random_state=5)\n",
    "        rand.fit(X_train, y_train[y])\n",
    "        \n",
    "        # Print out the optimal parameters \n",
    "        print(rand.best_params_)\n",
    "        \n",
    "        # Instatiate new model with optimized parameters\n",
    "        sgd = SGDClassifier(loss=rand.best_params_['loss'], penalty=rand.best_params_['penalty'])\n",
    "        '''\n",
    "        return sgd\n",
    "    elif model == \"randTree\":\n",
    "        rfc = RandomForestClassifier(n_estimators=10)\n",
    "        print(elapsed_time)\n",
    "        return rfc\n",
    "    elif model == \"decTree\":\n",
    "        dtc = DecisionTreeClassifier()\n",
    "        print(elapsed_time)\n",
    "        return dtc\n",
    "    else:\n",
    "        print(\"Sorry! We have not implemented that model yet.\")\n"
   ]
  },
  {
   "cell_type": "code",
   "execution_count": 53,
   "metadata": {
    "scrolled": true
   },
   "outputs": [
    {
     "name": "stdout",
     "output_type": "stream",
     "text": [
      "7.0685670375823975\n",
      "7.0685670375823975\n",
      "7.0685670375823975\n",
      "7.0685670375823975\n",
      "7.0685670375823975\n",
      "7.0685670375823975\n",
      "0.45738911628723145\n"
     ]
    }
   ],
   "source": [
    "# Test model on each category\n",
    "# Identity_Hate\n",
    "start_time = time.time()\n",
    "mlb = chooseModel(model=\"nb\",y=5).fit(X_train, y_train[5])\n",
    "predicted_Identity_Hate = pd.Series(mlb.predict(X_test))\n",
    "\n",
    "# Insult\n",
    "mlb = chooseModel(model=\"nb\",y=4).fit(X_train, y_train[4])\n",
    "predicted_Insult = pd.Series(mlb.predict(X_test))\n",
    "\n",
    "# Threat\n",
    "mlb = chooseModel(model=\"nb\",y=3).fit(X_train, y_train[3])\n",
    "predicted_Threat = pd.Series(mlb.predict(X_test))\n",
    "\n",
    "# Obscene\n",
    "mlb = chooseModel(model=\"nb\",y=2).fit(X_train, y_train[2])\n",
    "predicted_Obscene = pd.Series(mlb.predict(X_test))\n",
    "\n",
    "# Severly Toxic\n",
    "mlb = chooseModel(model=\"nb\",y=1).fit(X_train, y_train[1])\n",
    "predicted_Severly_Toxic = pd.Series(mlb.predict(X_test))\n",
    "\n",
    "# Toxic\n",
    "mlb = chooseModel(model=\"nb\",y=0).fit(X_train, y_train[0])\n",
    "predicted_Toxic = pd.Series(mlb.predict(X_test))\n",
    "'''\n",
    "cols = ['predicted_Toxic','predicted_Severely_Toxic','predicted_Obscene','predicted_Threat','predicted_insult','predicted_Identity_Hate']\n",
    "for i in range(len(y_train)):\n",
    "    mlb = MultinomialNB().fit(X_train, y_train[i])\n",
    "    # Transform X and then predict\n",
    "    if i == 0:\n",
    "        X_test = count_vect.transform(X_test)\n",
    "        X_test = tf_transformer.transform(X_test)\n",
    "    cols[i] = pd.Series(mlb.predict(X_test))\n",
    "'''\n",
    "elapsed_time = time.time() - start_time\n",
    "print(elapsed_time)"
   ]
  },
  {
   "cell_type": "code",
   "execution_count": 54,
   "metadata": {},
   "outputs": [
    {
     "name": "stdout",
     "output_type": "stream",
     "text": [
      "1.0548861026763916\n"
     ]
    }
   ],
   "source": [
    "start_time = time.time()\n",
    "columnNames = 'id','toxic','severe_toxic','obscene', 'threat', 'insult', 'identity_hate'\n",
    "data = pd.concat([testData.ID,predicted_Toxic,predicted_Severly_Toxic,predicted_Obscene,predicted_Threat,predicted_Insult,predicted_Identity_Hate], axis=1)\n",
    "data.head()\n",
    "data.to_csv(path_or_buf='/Users/zgalvin/Desktop/results.csv', index=False, header=columnNames)\n",
    "elapsed_time = time.time() - start_time\n",
    "print(elapsed_time)\n"
   ]
  },
  {
   "cell_type": "code",
   "execution_count": 55,
   "metadata": {},
   "outputs": [
    {
     "data": {
      "text/plain": [
       "('id', 'toxic', 'severe_toxic', 'obscene', 'threat', 'insult', 'identity_hate')"
      ]
     },
     "execution_count": 55,
     "metadata": {},
     "output_type": "execute_result"
    }
   ],
   "source": [
    "columnNames"
   ]
  },
  {
   "cell_type": "code",
   "execution_count": null,
   "metadata": {},
   "outputs": [],
   "source": []
  },
  {
   "cell_type": "code",
   "execution_count": null,
   "metadata": {},
   "outputs": [],
   "source": []
  },
  {
   "cell_type": "code",
   "execution_count": null,
   "metadata": {},
   "outputs": [],
   "source": []
  },
  {
   "cell_type": "code",
   "execution_count": null,
   "metadata": {},
   "outputs": [],
   "source": []
  }
 ],
 "metadata": {
  "kernelspec": {
   "display_name": "Python 3",
   "language": "python",
   "name": "python3"
  },
  "language_info": {
   "codemirror_mode": {
    "name": "ipython",
    "version": 3
   },
   "file_extension": ".py",
   "mimetype": "text/x-python",
   "name": "python",
   "nbconvert_exporter": "python",
   "pygments_lexer": "ipython3",
   "version": "3.6.4"
  }
 },
 "nbformat": 4,
 "nbformat_minor": 2
}
