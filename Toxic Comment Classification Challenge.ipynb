{
 "cells": [
  {
   "cell_type": "code",
   "execution_count": 98,
   "metadata": {},
   "outputs": [],
   "source": [
    "# Import python libraries \n",
    "import pandas as pd\n",
    "import csv\n",
    "from sklearn.feature_extraction.text import TfidfTransformer\n",
    "from sklearn.feature_extraction.text import CountVectorizer\n",
    "from sklearn.naive_bayes import MultinomialNB\n",
    "import numpy as np\n",
    "from sklearn.model_selection import RandomizedSearchCV\n",
    "from sklearn.linear_model import SGDClassifier\n",
    "from sklearn.model_selection import GridSearchCV\n",
    "import nltk\n",
    "import time\n",
    "from sklearn.ensemble import RandomForestClassifier\n",
    "from sklearn.tree import DecisionTreeClassifier\n",
    "from nltk.stem.snowball import SnowballStemmer"
   ]
  },
  {
   "cell_type": "code",
   "execution_count": 99,
   "metadata": {},
   "outputs": [
    {
     "data": {
      "text/html": [
       "<div>\n",
       "<style scoped>\n",
       "    .dataframe tbody tr th:only-of-type {\n",
       "        vertical-align: middle;\n",
       "    }\n",
       "\n",
       "    .dataframe tbody tr th {\n",
       "        vertical-align: top;\n",
       "    }\n",
       "\n",
       "    .dataframe thead th {\n",
       "        text-align: right;\n",
       "    }\n",
       "</style>\n",
       "<table border=\"1\" class=\"dataframe\">\n",
       "  <thead>\n",
       "    <tr style=\"text-align: right;\">\n",
       "      <th></th>\n",
       "      <th>ID</th>\n",
       "      <th>Text</th>\n",
       "      <th>Toxic</th>\n",
       "      <th>Severe_Toxic</th>\n",
       "      <th>Obscene</th>\n",
       "      <th>Threat</th>\n",
       "      <th>Insult</th>\n",
       "      <th>Identity_Hate</th>\n",
       "    </tr>\n",
       "  </thead>\n",
       "  <tbody>\n",
       "    <tr>\n",
       "      <th>0</th>\n",
       "      <td>0000997932d777bf</td>\n",
       "      <td>Explanation\\nWhy the edits made under my usern...</td>\n",
       "      <td>0</td>\n",
       "      <td>0</td>\n",
       "      <td>0</td>\n",
       "      <td>0</td>\n",
       "      <td>0</td>\n",
       "      <td>0</td>\n",
       "    </tr>\n",
       "    <tr>\n",
       "      <th>1</th>\n",
       "      <td>000103f0d9cfb60f</td>\n",
       "      <td>D'aww! He matches this background colour I'm s...</td>\n",
       "      <td>0</td>\n",
       "      <td>0</td>\n",
       "      <td>0</td>\n",
       "      <td>0</td>\n",
       "      <td>0</td>\n",
       "      <td>0</td>\n",
       "    </tr>\n",
       "    <tr>\n",
       "      <th>2</th>\n",
       "      <td>000113f07ec002fd</td>\n",
       "      <td>Hey man, I'm really not trying to edit war. It...</td>\n",
       "      <td>0</td>\n",
       "      <td>0</td>\n",
       "      <td>0</td>\n",
       "      <td>0</td>\n",
       "      <td>0</td>\n",
       "      <td>0</td>\n",
       "    </tr>\n",
       "    <tr>\n",
       "      <th>3</th>\n",
       "      <td>0001b41b1c6bb37e</td>\n",
       "      <td>\"\\nMore\\nI can't make any real suggestions on ...</td>\n",
       "      <td>0</td>\n",
       "      <td>0</td>\n",
       "      <td>0</td>\n",
       "      <td>0</td>\n",
       "      <td>0</td>\n",
       "      <td>0</td>\n",
       "    </tr>\n",
       "    <tr>\n",
       "      <th>4</th>\n",
       "      <td>0001d958c54c6e35</td>\n",
       "      <td>You, sir, are my hero. Any chance you remember...</td>\n",
       "      <td>0</td>\n",
       "      <td>0</td>\n",
       "      <td>0</td>\n",
       "      <td>0</td>\n",
       "      <td>0</td>\n",
       "      <td>0</td>\n",
       "    </tr>\n",
       "  </tbody>\n",
       "</table>\n",
       "</div>"
      ],
      "text/plain": [
       "                 ID                                               Text  Toxic  \\\n",
       "0  0000997932d777bf  Explanation\\nWhy the edits made under my usern...      0   \n",
       "1  000103f0d9cfb60f  D'aww! He matches this background colour I'm s...      0   \n",
       "2  000113f07ec002fd  Hey man, I'm really not trying to edit war. It...      0   \n",
       "3  0001b41b1c6bb37e  \"\\nMore\\nI can't make any real suggestions on ...      0   \n",
       "4  0001d958c54c6e35  You, sir, are my hero. Any chance you remember...      0   \n",
       "\n",
       "   Severe_Toxic  Obscene  Threat  Insult  Identity_Hate  \n",
       "0             0        0       0       0              0  \n",
       "1             0        0       0       0              0  \n",
       "2             0        0       0       0              0  \n",
       "3             0        0       0       0              0  \n",
       "4             0        0       0       0              0  "
      ]
     },
     "execution_count": 99,
     "metadata": {},
     "output_type": "execute_result"
    }
   ],
   "source": [
    "# Import test and train data\n",
    "path = '/Users/zgalvin/Desktop/Kaggle Problem/train.csv'\n",
    "pathTrain = '/Users/zgalvin/Desktop/Kaggle Problem/test.csv'\n",
    "\n",
    "trainData = pd.read_csv(path, names=['ID', 'Text', 'Toxic','Severe_Toxic','Obscene', 'Threat', 'Insult', 'Identity_Hate'], low_memory = False, header=0)\n",
    "testData = pd.read_csv(pathTrain, names=['ID','Text'],header=0,dtype={'ID': str})\n",
    "\n",
    "trainData.head()"
   ]
  },
  {
   "cell_type": "code",
   "execution_count": 100,
   "metadata": {},
   "outputs": [
    {
     "name": "stdout",
     "output_type": "stream",
     "text": [
      "0.008777856826782227\n"
     ]
    }
   ],
   "source": [
    "# Split the data up into X and y\n",
    "\n",
    "# Start timer\n",
    "start_time = time.time()\n",
    "\n",
    "# Assign text to X and categories to y\n",
    "X_train = trainData.Text\n",
    "y_train = [trainData.Toxic, trainData.Severe_Toxic, trainData.Obscene, trainData.Threat, trainData.Insult, trainData.Identity_Hate]\n",
    "\n",
    "# Assign text to X in the test set\n",
    "X_test = testData.Text\n",
    "\n",
    "elapsed_time = time.time() - start_time\n",
    "print(elapsed_time)"
   ]
  },
  {
   "cell_type": "code",
   "execution_count": 101,
   "metadata": {},
   "outputs": [
    {
     "name": "stdout",
     "output_type": "stream",
     "text": [
      "(159571, 10712)\n",
      "<class 'scipy.sparse.csr.csr_matrix'>\n",
      "[[ 1 41  0 ...  0  0  0]\n",
      " [ 0 16  1 ...  0  0  0]\n",
      " [ 0 41  0 ...  0  0  0]\n",
      " ...\n",
      " [ 0 11  0 ...  0  0  0]\n",
      " [ 0 24  0 ...  0  0  0]\n",
      " [ 1 34  0 ...  0  0  0]]\n",
      "<class 'scipy.sparse.csr.csr_matrix'>\n",
      "22.95152497291565\n"
     ]
    }
   ],
   "source": [
    "# Turn text to numbers\n",
    "\n",
    "# Start timer\n",
    "start_time = time.time()\n",
    "'''\n",
    "# Create Lemmatizer\n",
    "class LemmaTokenizer(object):\n",
    "    def __init__(self):\n",
    "        self.wnl = WordNetLemmatizer()\n",
    "    def __call__(self, doc):\n",
    "        return [self.wnl.lemmatize(t) for t in word_tokenize(doc)]\n",
    "'''        \n",
    "\n",
    "# Fit and transform X into tokenized word counts\n",
    "count_vect = CountVectorizer(stop_words='english', min_df=.0002, max_df=.9)\n",
    "X_train = count_vect.fit_transform(X_train)\n",
    "# print(count_vect.get_feature_names())\n",
    "print(X_train.shape)\n",
    "print(type(X_train))\n",
    "\n",
    "# Create sparse matrix of character counts for each comment\n",
    "count_vect_char = CountVectorizer(stop_words='english', analyzer='char')\n",
    "X_train_char = count_vect_char.fit_transform(trainData.Text)\n",
    "# print(count_vect_char.get_feature_names())\n",
    "print(X_train_char.toarray())\n",
    "print(type(X_train_char))\n",
    "\n",
    "# Implement term frequency–inverse document frequency on the word counts (this did not help accuracy)\n",
    "# tf_transformer = TfidfTransformer()\n",
    "# X_train = tf_transformer.fit_transform(X_train_counts)\n",
    "\n",
    "elapsed_time = time.time() - start_time\n",
    "print(elapsed_time)"
   ]
  },
  {
   "cell_type": "code",
   "execution_count": 102,
   "metadata": {},
   "outputs": [
    {
     "data": {
      "text/plain": [
       "'from scipy.sparse import vstack\\nstackedX = vstack([X_train,X_train_char])\\nprint(stackedX)\\nprint(type(stackedX))\\n'"
      ]
     },
     "execution_count": 102,
     "metadata": {},
     "output_type": "execute_result"
    }
   ],
   "source": [
    "# Stack the word and character sparse matrices\n",
    "'''from scipy.sparse import vstack\n",
    "stackedX = vstack([X_train,X_train_char])\n",
    "print(stackedX)\n",
    "print(type(stackedX))\n",
    "'''"
   ]
  },
  {
   "cell_type": "code",
   "execution_count": 103,
   "metadata": {},
   "outputs": [
    {
     "name": "stdout",
     "output_type": "stream",
     "text": [
      "(153164, 10712)\n",
      "<class 'scipy.sparse.csr.csr_matrix'>\n",
      "7.421841859817505\n"
     ]
    }
   ],
   "source": [
    "# Transform X_test\n",
    "\n",
    "# Start timer\n",
    "start_time = time.time()\n",
    "\n",
    "# Transform X for the training data into tokenized word counts\n",
    "X_test = count_vect.transform(X_test)\n",
    "print(X_test.shape)\n",
    "print(type(X_test))\n",
    "\n",
    "# Transform X in testing data througb frequency–inverse document frequency on the word counts (this did not help accuracy)\n",
    "# X_test = tf_transformer.transform(X_test)\n",
    "\n",
    "elapsed_time = time.time() - start_time\n",
    "print(elapsed_time)"
   ]
  },
  {
   "cell_type": "code",
   "execution_count": 104,
   "metadata": {},
   "outputs": [],
   "source": [
    "# Function to choose model so that editing models is easier (less copy and pasting)\n",
    "\n",
    "# Start timer\n",
    "start_time = time.time()\n",
    "\n",
    "def chooseModel(model,y):\n",
    "    if model == \"nb\":\n",
    "        # use MultinomialNB\n",
    "        mlb = MultinomialNB()\n",
    "        print(elapsed_time)\n",
    "        return mlb\n",
    "    elif model == \"sgd\":\n",
    "        # use SGDClassifier \n",
    "        sgd = SGDClassifier()\n",
    "        print(elapsed_time)\n",
    "        \n",
    "        '''# Define parameters to optimize\n",
    "        params = dict(loss=['log','modified_huber', 'squared_hinge', \\\n",
    "                            'perceptron', 'squared_loss', 'huber', \\\n",
    "                            'epsilon_insensitive', 'squared_epsilon_insensitive'],\\\n",
    "                            penalty=['none','l2','l1','elasticnet'], \\\n",
    "                            alpha=(1e-2, 1e-3), fit_intercept=[True,False]  \n",
    "                     )\n",
    "        \n",
    "        rand = RandomizedSearchCV(sgd, params, n_iter=5, random_state=5)\n",
    "        rand.fit(X_train, y_train[y])\n",
    "        \n",
    "        # Print out the optimal parameters \n",
    "        print(rand.best_params_)\n",
    "        \n",
    "        # Instatiate new model with optimized parameters\n",
    "        sgd = SGDClassifier(loss=rand.best_params_['loss'], penalty=rand.best_params_['penalty'])\n",
    "        '''\n",
    "        return sgd\n",
    "    elif model == \"randTree\":\n",
    "        # Use RandomForestClassifier\n",
    "        rfc = RandomForestClassifier(n_estimators=10)\n",
    "        print(elapsed_time)\n",
    "        return rfc\n",
    "    elif model == \"decTree\":\n",
    "        # Use DecisionTreeClassifier\n",
    "        dtc = DecisionTreeClassifier()\n",
    "        print(elapsed_time)\n",
    "        return dtc\n",
    "    else:\n",
    "        print(\"Sorry! We have not implemented that model yet.\")\n"
   ]
  },
  {
   "cell_type": "code",
   "execution_count": 105,
   "metadata": {
    "scrolled": true
   },
   "outputs": [
    {
     "name": "stdout",
     "output_type": "stream",
     "text": [
      "7.421841859817505\n",
      "7.421841859817505\n",
      "7.421841859817505\n",
      "7.421841859817505\n",
      "7.421841859817505\n",
      "7.421841859817505\n",
      "0.7206511497497559\n"
     ]
    }
   ],
   "source": [
    "# Test model on each category\n",
    "\n",
    "# Start timer\n",
    "start_time = time.time()\n",
    "\n",
    "# Identity_Hate\n",
    "mlb = chooseModel(model=\"nb\",y=5).fit(X_train, y_train[5])\n",
    "predicted_Identity_Hate = mlb.predict_proba(X_test)\n",
    "predicted_Identity_Hate = pd.Series(predicted_Identity_Hate[:,1])\n",
    "\n",
    "# Insult\n",
    "mlb = chooseModel(model=\"nb\",y=4).fit(X_train, y_train[4])\n",
    "predicted_Insult = mlb.predict_proba(X_test)\n",
    "predicted_Insult = pd.Series(predicted_Insult[:,1])\n",
    "\n",
    "# Threat\n",
    "mlb = chooseModel(model=\"nb\",y=3).fit(X_train, y_train[3])\n",
    "predicted_Threat = mlb.predict_proba(X_test)\n",
    "predicted_Threat = pd.Series(predicted_Threat[:,1])\n",
    "\n",
    "# Obscene\n",
    "mlb = chooseModel(model=\"nb\",y=2).fit(X_train, y_train[2])\n",
    "predicted_Obscene = mlb.predict_proba(X_test)\n",
    "predicted_Obscene = pd.Series(predicted_Obscene[:,1])\n",
    "\n",
    "# Severly Toxic\n",
    "mlb = chooseModel(model=\"nb\",y=1).fit(X_train, y_train[1])\n",
    "predicted_Severly_Toxic = mlb.predict_proba(X_test)\n",
    "predicted_Severly_Toxic = pd.Series(predicted_Severly_Toxic[:,1])\n",
    "\n",
    "# Toxic\n",
    "mlb = chooseModel(model=\"nb\",y=0).fit(X_train, y_train[0])\n",
    "predicted_Toxic = mlb.predict_proba(X_test)\n",
    "predicted_Toxic = pd.Series(predicted_Toxic[:,1])\n",
    "'''\n",
    "cols = ['predicted_Toxic','predicted_Severely_Toxic','predicted_Obscene','predicted_Threat','predicted_insult','predicted_Identity_Hate']\n",
    "for i in range(len(y_train)):\n",
    "    mlb = MultinomialNB().fit(X_train, y_train[i])\n",
    "    # Transform X and then predict\n",
    "    if i == 0:\n",
    "        X_test = count_vect.transform(X_test)\n",
    "        X_test = tf_transformer.transform(X_test)\n",
    "    cols[i] = pd.Series(mlb.predict(X_test))\n",
    "'''\n",
    "elapsed_time = time.time() - start_time\n",
    "print(elapsed_time)"
   ]
  },
  {
   "cell_type": "code",
   "execution_count": 106,
   "metadata": {},
   "outputs": [
    {
     "name": "stdout",
     "output_type": "stream",
     "text": [
      "2.5390448570251465\n"
     ]
    }
   ],
   "source": [
    "# Write data to csv file in Kaggle format\n",
    "\n",
    "# Start timer\n",
    "start_time = time.time()\n",
    "\n",
    "# Create list of column names (How Kaggle wants it)\n",
    "columnNames = 'id','toxic','severe_toxic','obscene', 'threat', 'insult', 'identity_hate'\n",
    "\n",
    "# Concat the pandas series together to create a data frame\n",
    "data = pd.concat([testData.ID,predicted_Toxic,predicted_Severly_Toxic,predicted_Obscene,predicted_Threat,predicted_Insult,predicted_Identity_Hate], axis=1)\n",
    "data.head()\n",
    "\n",
    "# Write data frame to the result.csv on desktop\n",
    "data.to_csv(path_or_buf='/Users/zgalvin/Desktop/results.csv', index=False, header=columnNames)\n",
    "\n",
    "elapsed_time = time.time() - start_time\n",
    "print(elapsed_time)\n"
   ]
  },
  {
   "cell_type": "code",
   "execution_count": null,
   "metadata": {},
   "outputs": [],
   "source": []
  }
 ],
 "metadata": {
  "kernelspec": {
   "display_name": "Python 3",
   "language": "python",
   "name": "python3"
  },
  "language_info": {
   "codemirror_mode": {
    "name": "ipython",
    "version": 3
   },
   "file_extension": ".py",
   "mimetype": "text/x-python",
   "name": "python",
   "nbconvert_exporter": "python",
   "pygments_lexer": "ipython3",
   "version": "3.6.4"
  }
 },
 "nbformat": 4,
 "nbformat_minor": 2
}
